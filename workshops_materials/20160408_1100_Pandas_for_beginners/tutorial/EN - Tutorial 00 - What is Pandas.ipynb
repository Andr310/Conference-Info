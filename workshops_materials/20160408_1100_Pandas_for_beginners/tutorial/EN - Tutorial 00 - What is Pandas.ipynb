{
 "cells": [
  {
   "cell_type": "markdown",
   "metadata": {},
   "source": [
    "# Do you need `pandas`?"
   ]
  },
  {
   "cell_type": "markdown",
   "metadata": {},
   "source": [
    "* Do you need to import data to Python?\n",
    "\n",
    "\n",
    "* Data is not clean?\n",
    "\n",
    "\n",
    "* Do you need to explore your datasets and want to gain insight from them in a simple and fast manner?\n",
    "\n",
    "\n",
    "* Do you need to precess your data to be ready for subsequent analyses using statsmodels, scikit-learn,..., others?\n",
    "\n",
    "\n",
    "* ...?"
   ]
  },
  {
   "cell_type": "markdown",
   "metadata": {},
   "source": [
    "## If you agree to any of the previous questions and you don't have much idea about `pandas` then you are in the right place..."
   ]
  },
  {
   "cell_type": "markdown",
   "metadata": {},
   "source": [
    "# What is `pandas`?"
   ]
  },
  {
   "cell_type": "markdown",
   "metadata": {},
   "source": [
    "For each intensive task involving data `pandas` has become an essential library in the Python world.\n",
    "\n",
    "> You can see `pandas` like numpy array on steroids, that is, numpy arrays with labels for columns and rows and better support to work with diverse datasets.\n",
    "    \n",
    "The pervious one is not a deep definition. Devil is in the details!!!\n",
    "\n",
    "## Interesting features:\n",
    "\n",
    "\n",
    "* Input/Output for a lot of different data formats in an easy, fast and flexible way (csv, json, sql, HDF5, HTML,...).\n",
    "\n",
    "\n",
    "* Tools to deal with *missing* data (`.dropna()`, `pd.isnull()`).\n",
    "\n",
    "\n",
    "* Merge and combination (`concat`, `join`, `merge`).\n",
    "\n",
    "\n",
    "* Grouping (`groupby`).\n",
    "\n",
    "\n",
    "* Reshaping (`stack`, `unstack`, `pivot`, `pivot_table`).\n",
    "\n",
    "\n",
    "* Powerful time series data treatment (*resampling*, *timezones*, ...).\n",
    "\n",
    "\n",
    "* Easy plotting."
   ]
  },
  {
   "cell_type": "markdown",
   "metadata": {},
   "source": [
    "# What we will see?"
   ]
  },
  {
   "cell_type": "markdown",
   "metadata": {},
   "source": [
    "* Data structures with `pandas`.\n",
    "\n",
    "\n",
    "* Data I/O.\n",
    "\n",
    "\n",
    "* Get information from the data sructure, sttistical operations, setting indexes, work with missing data, work with dates.\n",
    "\n",
    "\n",
    "* Selection and indexing of data.\n",
    "\n",
    "\n",
    "* NA, NaN, missing data,...\n",
    "\n",
    "\n",
    "* Combination, grouping, aggregation,...\n",
    "\n",
    "\n",
    "* Results plotting."
   ]
  },
  {
   "cell_type": "markdown",
   "metadata": {},
   "source": [
    "------------------------------"
   ]
  },
  {
   "cell_type": "markdown",
   "metadata": {},
   "source": [
    "# What do we need for the tutorial"
   ]
  },
  {
   "cell_type": "code",
   "execution_count": null,
   "metadata": {
    "collapsed": true
   },
   "outputs": [],
   "source": [
    "# First, some imports\n",
    "import os\n",
    "import datetime as dt\n",
    "import sys\n",
    "\n",
    "import pandas as pd\n",
    "import numpy as np\n",
    "import matplotlib.pyplot as plt\n",
    "import matplotlib as mpl\n",
    "from IPython.display import display\n",
    "\n",
    "np.random.seed(19760812)\n",
    "plt.style.use('bmh')\n",
    "%matplotlib inline"
   ]
  },
  {
   "cell_type": "code",
   "execution_count": null,
   "metadata": {
    "collapsed": false
   },
   "outputs": [],
   "source": [
    "print('Python version:')\n",
    "print(sys.version)\n",
    "print()\n",
    "print('Pandas: ', pd.__version__)\n",
    "print('Numpy: ', np.__version__)\n",
    "print('Matplotlib: ', mpl.__version__)"
   ]
  },
  {
   "cell_type": "markdown",
   "metadata": {},
   "source": [
    "---------------------------------------------------"
   ]
  },
  {
   "cell_type": "markdown",
   "metadata": {},
   "source": [
    "# Preliminary analysis of a wind dataset\n",
    "\n",
    "Before we start with the tutorial let's make a small analysis of wind data to see some of the capabilities of the library."
   ]
  },
  {
   "cell_type": "code",
   "execution_count": null,
   "metadata": {
    "collapsed": false
   },
   "outputs": [],
   "source": [
    "# We read data from 'model.txt'\n",
    "ipath = os.path.join('Datos', 'model.txt')\n",
    "\n",
    "model = pd.read_csv(ipath, sep = \"\\s*\", skiprows = 3,\n",
    "                    parse_dates = {'Timestamp': [0, 1]}, index_col = 'Timestamp')"
   ]
  },
  {
   "cell_type": "code",
   "execution_count": null,
   "metadata": {
    "collapsed": false
   },
   "outputs": [],
   "source": [
    "model.head()"
   ]
  },
  {
   "cell_type": "code",
   "execution_count": null,
   "metadata": {
    "collapsed": false
   },
   "outputs": [],
   "source": [
    "pd.tools.plotting.scatter_matrix(model.ix[0:1000, 'M(m/s)':'D(deg)'])"
   ]
  },
  {
   "cell_type": "code",
   "execution_count": null,
   "metadata": {
    "collapsed": false
   },
   "outputs": [],
   "source": [
    "print(model.index[0], model.index[-1], sep = '\\n')"
   ]
  },
  {
   "cell_type": "code",
   "execution_count": null,
   "metadata": {
    "collapsed": false
   },
   "outputs": [],
   "source": [
    "model.mean()"
   ]
  },
  {
   "cell_type": "code",
   "execution_count": null,
   "metadata": {
    "collapsed": false
   },
   "outputs": [],
   "source": [
    "model.max()"
   ]
  },
  {
   "cell_type": "code",
   "execution_count": null,
   "metadata": {
    "collapsed": false
   },
   "outputs": [],
   "source": [
    "idx = model.loc[:, 'M(m/s)'].sort_values(ascending = False).index"
   ]
  },
  {
   "cell_type": "code",
   "execution_count": null,
   "metadata": {
    "collapsed": false
   },
   "outputs": [],
   "source": [
    "pd.tools.plotting.scatter_matrix(model.loc[idx[:1000], 'M(m/s)':'D(deg)'])"
   ]
  },
  {
   "cell_type": "code",
   "execution_count": null,
   "metadata": {
    "collapsed": false
   },
   "outputs": [],
   "source": [
    "model.loc[:, 'M(m/s)'].plot.hist(bins = np.arange(0, 35))"
   ]
  },
  {
   "cell_type": "code",
   "execution_count": null,
   "metadata": {
    "collapsed": true
   },
   "outputs": [],
   "source": [
    "model['month'] = model.index.month\n",
    "model['year'] = model.index.year"
   ]
  },
  {
   "cell_type": "code",
   "execution_count": null,
   "metadata": {
    "collapsed": false
   },
   "outputs": [],
   "source": [
    "model.groupby(by = ['year', 'month']).mean().plot(y = 'M(m/s)', figsize = (15, 5))"
   ]
  },
  {
   "cell_type": "code",
   "execution_count": null,
   "metadata": {
    "collapsed": false
   },
   "outputs": [],
   "source": [
    "monthly = model.groupby(by = ['year', 'month']).mean()\n",
    "monthly['ma'] = monthly.loc[:, 'M(m/s)'].rolling(5, center = True).mean()\n",
    "monthly.head()"
   ]
  },
  {
   "cell_type": "code",
   "execution_count": null,
   "metadata": {
    "collapsed": false
   },
   "outputs": [],
   "source": [
    "monthly.loc[:,['M(m/s)', 'ma']].plot(figsize = (15, 6))"
   ]
  },
  {
   "cell_type": "code",
   "execution_count": null,
   "metadata": {
    "collapsed": false
   },
   "outputs": [],
   "source": [
    "monthly.loc[:, 'M(m/s)'].reset_index().pivot(index = 'year', columns = 'month')"
   ]
  },
  {
   "cell_type": "code",
   "execution_count": null,
   "metadata": {
    "collapsed": false
   },
   "outputs": [],
   "source": [
    "(monthly.loc[:, 'M(m/s)'].reset_index().pivot(\n",
    "    index = 'year', \n",
    "        columns = 'month'\n",
    "    ).T.plot(\n",
    "        figsize = (15, 10), \n",
    "        legend = False\n",
    "    )\n",
    " )"
   ]
  }
 ],
 "metadata": {
  "kernelspec": {
   "display_name": "Python 3",
   "language": "python",
   "name": "python3"
  },
  "language_info": {
   "codemirror_mode": {
    "name": "ipython",
    "version": 3
   },
   "file_extension": ".py",
   "mimetype": "text/x-python",
   "name": "python",
   "nbconvert_exporter": "python",
   "pygments_lexer": "ipython3",
   "version": "3.5.1"
  }
 },
 "nbformat": 4,
 "nbformat_minor": 0
}
